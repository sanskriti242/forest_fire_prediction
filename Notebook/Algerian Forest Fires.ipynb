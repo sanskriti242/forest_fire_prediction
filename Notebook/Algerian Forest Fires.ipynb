{
 "cells": [
  {
   "cell_type": "markdown",
   "id": "0",
   "metadata": {},
   "source": [
    "## 📄 Summary of Algerian Forest Fire Dataset\n",
    "\n",
    "The **Algerian Forest Fire Dataset** contains meteorological data collected from two different regions of Algeria: the **Bejaia region** and the **Sidi Bel-Abbes region**. The dataset spans from **June 2012 to September 2012** and includes various attributes that influence the likelihood of forest fires.\n",
    "\n",
    "---\n",
    "\n",
    "### 📊 Attributes\n",
    "\n",
    "1. **Date** – The date of observation.\n",
    "2. **Temperature** – Ambient temperature in Celsius (°C).\n",
    "3. **RH** – Relative Humidity in percentage (%).\n",
    "4. **Ws** – Wind speed in kilometers per hour (km/h).\n",
    "5. **Rain** – Amount of rainfall in millimeters (mm).\n",
    "6. **FFMC** – *Fine Fuel Moisture Code* (from the FWI system); represents moisture content of surface litter and fine fuels.\n",
    "7. **DMC** – *Duff Moisture Code*; indicates moisture in moderately compact organic layers.\n",
    "8. **DC** – *Drought Code*; represents long-term moisture in deep organic layers.\n",
    "9. **ISI** – *Initial Spread Index*; estimates the expected spread rate of a fire.\n",
    "10. **BUI** – *Buildup Index*; a combination of DMC and DC reflecting total fuel availability.\n",
    "11. **FWI** – *Fire Weather Index*; indicates the intensity of a potential fire.\n",
    "12. **Classes** – Target variable: `1` for fire occurrence, `0` for no fire.\n",
    "\n",
    "---\n",
    "\n",
    "### 📍 Regions Covered\n",
    "\n",
    "- **Bejaia Region** – Located in the northeast of Algeria.\n",
    "- **Sidi Bel-Abbes Region** – Located in the northwest of Algeria.\n",
    "\n",
    "---\n",
    "\n",
    "### 🔍 Usage\n",
    "\n",
    "This dataset can be utilized for:\n",
    "\n",
    "- Analyzing the impact of weather conditions on forest fire occurrences.\n",
    "- Developing machine learning models to **predict fire risk**.\n",
    "- Studying **seasonal fire trends** in different regions of Algeria.\n",
    "\n",
    "---\n",
    "\n",
    "### 🔗 Source\n",
    "\n",
    "This dataset is publicly available from the [UCI Machine Learning Repository](https://archive.ics.uci.edu/).\n"
   ]
  },
  {
   "cell_type": "code",
   "execution_count": null,
   "id": "1",
   "metadata": {},
   "outputs": [],
   "source": [
    "import numpy as np\n",
    "import pandas as pd\n",
    "import matplotlib.pyplot as plt\n",
    "import seaborn as sns\n",
    "%matplotlib inline"
   ]
  },
  {
   "cell_type": "markdown",
   "id": "2",
   "metadata": {},
   "source": [
    "## Load Dataset"
   ]
  },
  {
   "cell_type": "code",
   "execution_count": null,
   "id": "3",
   "metadata": {},
   "outputs": [],
   "source": [
    "#load dataset\n",
    "df = pd.read_csv(\"../dataset/Algerian_Forest_firesdataset.csv\",header = 1)"
   ]
  },
  {
   "cell_type": "code",
   "execution_count": null,
   "id": "4",
   "metadata": {},
   "outputs": [],
   "source": [
    "df.head()"
   ]
  },
  {
   "cell_type": "code",
   "execution_count": null,
   "id": "5",
   "metadata": {},
   "outputs": [],
   "source": [
    "df.info()"
   ]
  },
  {
   "cell_type": "markdown",
   "id": "6",
   "metadata": {},
   "source": [
    "## 1. Data Cleaning"
   ]
  },
  {
   "cell_type": "code",
   "execution_count": null,
   "id": "7",
   "metadata": {},
   "outputs": [],
   "source": [
    "# missing values\n",
    "df.isnull().sum()"
   ]
  },
  {
   "cell_type": "code",
   "execution_count": null,
   "id": "8",
   "metadata": {},
   "outputs": [],
   "source": [
    "df[df.isnull().any(axis=1)]"
   ]
  },
  {
   "cell_type": "markdown",
   "id": "9",
   "metadata": {},
   "source": [
    "- The data set is converted in two sets based on Region from 122th index.\n",
    "- We make two columns:\n",
    "\n",
    "  - **Bejaia Region Dataset**\n",
    "  - **Sidi-Bel Abbes Region Dataset**\n",
    "\n",
    "- **Note:** Add new column with `Region`.\n"
   ]
  },
  {
   "cell_type": "code",
   "execution_count": null,
   "id": "10",
   "metadata": {},
   "outputs": [],
   "source": [
    "df.loc[:122,\"Region\"] = 0\n",
    "df.loc[122:,\"Region\"] = 1"
   ]
  },
  {
   "cell_type": "code",
   "execution_count": null,
   "id": "11",
   "metadata": {},
   "outputs": [],
   "source": [
    "df.info()"
   ]
  },
  {
   "cell_type": "code",
   "execution_count": null,
   "id": "12",
   "metadata": {},
   "outputs": [],
   "source": [
    "df.tail()"
   ]
  },
  {
   "cell_type": "code",
   "execution_count": null,
   "id": "13",
   "metadata": {},
   "outputs": [],
   "source": [
    "#convert Region to int\n",
    "df[['Region']] = df[['Region']].astype(int)"
   ]
  },
  {
   "cell_type": "code",
   "execution_count": null,
   "id": "14",
   "metadata": {},
   "outputs": [],
   "source": [
    "df.head()"
   ]
  },
  {
   "cell_type": "code",
   "execution_count": null,
   "id": "15",
   "metadata": {},
   "outputs": [],
   "source": [
    "df.isnull().sum()"
   ]
  },
  {
   "cell_type": "code",
   "execution_count": null,
   "id": "16",
   "metadata": {},
   "outputs": [],
   "source": [
    "#remove null values\n",
    "df = df.dropna().reset_index(drop=True)"
   ]
  },
  {
   "cell_type": "code",
   "execution_count": null,
   "id": "17",
   "metadata": {},
   "outputs": [],
   "source": [
    "df.head()"
   ]
  },
  {
   "cell_type": "code",
   "execution_count": null,
   "id": "18",
   "metadata": {},
   "outputs": [],
   "source": [
    "df.isnull().sum()"
   ]
  },
  {
   "cell_type": "code",
   "execution_count": null,
   "id": "19",
   "metadata": {},
   "outputs": [],
   "source": [
    "df.iloc[[122]]"
   ]
  },
  {
   "cell_type": "code",
   "execution_count": null,
   "id": "20",
   "metadata": {},
   "outputs": [],
   "source": [
    "#row 122 is not needed its just like a header so we will remove it\n",
    "df = df.drop(122).reset_index(drop = True)"
   ]
  },
  {
   "cell_type": "code",
   "execution_count": null,
   "id": "21",
   "metadata": {},
   "outputs": [],
   "source": [
    "df.iloc[[122]]"
   ]
  },
  {
   "cell_type": "code",
   "execution_count": null,
   "id": "22",
   "metadata": {},
   "outputs": [],
   "source": [
    "df.columns"
   ]
  },
  {
   "cell_type": "code",
   "execution_count": null,
   "id": "23",
   "metadata": {},
   "outputs": [],
   "source": [
    "df.columns = df.columns.str.strip()"
   ]
  },
  {
   "cell_type": "code",
   "execution_count": null,
   "id": "24",
   "metadata": {},
   "outputs": [],
   "source": [
    "df.columns"
   ]
  },
  {
   "cell_type": "code",
   "execution_count": null,
   "id": "25",
   "metadata": {},
   "outputs": [],
   "source": [
    "df.info()"
   ]
  },
  {
   "cell_type": "code",
   "execution_count": null,
   "id": "26",
   "metadata": {},
   "outputs": [],
   "source": [
    "#from day to Ws column\n",
    "#change the required columns as integer data type\n",
    "\n",
    "df[['day', 'month','year','Temperature', 'RH', 'Ws']]=df[['day', 'month','year','Temperature', 'RH', 'Ws']].astype('int')\n",
    "\n",
    "df.info()"
   ]
  },
  {
   "cell_type": "code",
   "execution_count": null,
   "id": "27",
   "metadata": {},
   "outputs": [],
   "source": [
    "## Changing the other columns to float data type\n",
    "objects = [features for features in df.columns if df[features].dtypes =='O'] #get all objects types\n",
    "objects"
   ]
  },
  {
   "cell_type": "code",
   "execution_count": null,
   "id": "28",
   "metadata": {},
   "outputs": [],
   "source": [
    "for i in objects:\n",
    "    if i!='Classes':\n",
    "        df[i]=df[i].astype(float)"
   ]
  },
  {
   "cell_type": "code",
   "execution_count": null,
   "id": "29",
   "metadata": {},
   "outputs": [],
   "source": [
    "df.info()"
   ]
  },
  {
   "cell_type": "code",
   "execution_count": null,
   "id": "30",
   "metadata": {},
   "outputs": [],
   "source": [
    "df.describe()"
   ]
  },
  {
   "cell_type": "code",
   "execution_count": null,
   "id": "31",
   "metadata": {},
   "outputs": [],
   "source": [
    "#convert the dataset into a csv file to save the cleaned dataset\n",
    "df.to_csv(\"Algerian_Forest_firesdataset_Cleaned.csv\",index = False)"
   ]
  },
  {
   "cell_type": "markdown",
   "id": "32",
   "metadata": {},
   "source": [
    "## 2. EDA"
   ]
  },
  {
   "cell_type": "code",
   "execution_count": null,
   "id": "33",
   "metadata": {},
   "outputs": [],
   "source": [
    "#here we will drop day, month, year becuase we are predicting FWI and we dont need these columns\n",
    "df_copy = df.drop(['day','month','year'],axis = 1)"
   ]
  },
  {
   "cell_type": "code",
   "execution_count": null,
   "id": "34",
   "metadata": {},
   "outputs": [],
   "source": [
    "df_copy.head()"
   ]
  },
  {
   "cell_type": "code",
   "execution_count": null,
   "id": "35",
   "metadata": {},
   "outputs": [],
   "source": [
    "# Encoding of categories in classes\n",
    "df_copy['Classes'].value_counts()"
   ]
  },
  {
   "cell_type": "code",
   "execution_count": null,
   "id": "36",
   "metadata": {},
   "outputs": [],
   "source": [
    "df_copy['Classes'] = np.where(df_copy['Classes'].str.contains('not fire'),0,1)"
   ]
  },
  {
   "cell_type": "code",
   "execution_count": null,
   "id": "37",
   "metadata": {},
   "outputs": [],
   "source": [
    "df_copy.head()"
   ]
  },
  {
   "cell_type": "code",
   "execution_count": null,
   "id": "38",
   "metadata": {},
   "outputs": [],
   "source": [
    "df_copy['Classes'].value_counts()"
   ]
  },
  {
   "cell_type": "markdown",
   "id": "39",
   "metadata": {},
   "source": [
    "## 3. Data Visualisation"
   ]
  },
  {
   "cell_type": "code",
   "execution_count": null,
   "id": "40",
   "metadata": {},
   "outputs": [],
   "source": [
    "#plot density plot for all features\n",
    "plt.style.use('seaborn-v0_8')\n",
    "df_copy.hist(bins=50, figsize=(20,15))\n",
    "plt.show()"
   ]
  },
  {
   "cell_type": "code",
   "execution_count": null,
   "id": "41",
   "metadata": {},
   "outputs": [],
   "source": [
    "percentage = df_copy['Classes'].value_counts(normalize = True)*100"
   ]
  },
  {
   "cell_type": "code",
   "execution_count": null,
   "id": "42",
   "metadata": {},
   "outputs": [],
   "source": [
    "# Percentage for pie chart\n",
    "labels = ['not fire', 'fire']\n",
    "sizes = df_copy['Classes'].value_counts(sort = True)\n",
    "colors = [\"lightblue\",\"red\"]\n",
    "explode = (0.1,0)  # explode 1st slice\n",
    "plt.figure(figsize=(5,5))\n",
    "plt.pie(sizes, explode=explode, labels=labels, colors=colors, autopct='%1.1f%%', shadow=True, startangle=140,)\n",
    "plt.title('Percentage of Classes in the dataset')\n",
    "plt.show()"
   ]
  },
  {
   "cell_type": "code",
   "execution_count": null,
   "id": "43",
   "metadata": {},
   "outputs": [],
   "source": [
    "df_copy.corr()"
   ]
  },
  {
   "cell_type": "code",
   "execution_count": null,
   "id": "44",
   "metadata": {},
   "outputs": [],
   "source": [
    "#plot correlation\n",
    "plt.figure(figsize=(20,10))\n",
    "sns.heatmap(df_copy.corr(), annot=True, cmap='coolwarm')\n",
    "plt.show()"
   ]
  },
  {
   "cell_type": "markdown",
   "id": "45",
   "metadata": {},
   "source": [
    "### This heatmap is indicating the FWI has a good correlation with other features"
   ]
  },
  {
   "cell_type": "code",
   "execution_count": null,
   "id": "46",
   "metadata": {},
   "outputs": [],
   "source": [
    "# plot pair plot\n",
    "sns.pairplot(df_copy, hue='Classes')\n",
    "plt.show()"
   ]
  },
  {
   "cell_type": "code",
   "execution_count": null,
   "id": "47",
   "metadata": {},
   "outputs": [],
   "source": [
    "#boxplot\n",
    "plt.figure(figsize=(20,10))\n",
    "sns.boxplot(data=df_copy, orient='h')\n",
    "plt.xticks(rotation=90)\n",
    "plt.show()"
   ]
  },
  {
   "cell_type": "code",
   "execution_count": null,
   "id": "48",
   "metadata": {},
   "outputs": [],
   "source": [
    "df['Classes'] = np.where(df['Classes'].str.contains('not fire'), 'not fire', 'fire')"
   ]
  },
  {
   "cell_type": "code",
   "execution_count": null,
   "id": "49",
   "metadata": {},
   "outputs": [],
   "source": [
    "#monthly fire analysis\n",
    "df_temp = df.loc[df['Region']==0]\n",
    "plt.subplots(figsize=(20,10))\n",
    "sns.set_style('whitegrid')\n",
    "sns.countplot(x='month', data=df, hue='Classes')\n",
    "plt.xlabel('Month')\n",
    "plt.ylabel('number of fire count')\n",
    "plt.title('Fire analysis of Bejaia Region', weight='bold')"
   ]
  },
  {
   "cell_type": "code",
   "execution_count": null,
   "id": "50",
   "metadata": {},
   "outputs": [],
   "source": [
    "#monthly fire analysis\n",
    "df_temp = df.loc[df['Region']==1]\n",
    "plt.subplots(figsize=(20,10))\n",
    "sns.set_style('whitegrid')\n",
    "sns.countplot(x='month', data=df, hue='Classes')\n",
    "plt.xlabel('Month')\n",
    "plt.ylabel('number of fire count')\n",
    "plt.title('Fire analysis of Sidi-Bell Region', weight='bold')"
   ]
  },
  {
   "cell_type": "markdown",
   "id": "51",
   "metadata": {},
   "source": [
    "## 🔍 Summary of Analysis\n",
    "\n",
    "### 🧹 Data Cleaning\n",
    "- Removed null values and unnecessary rows.\n",
    "- Converted columns to appropriate data types for analysis.\n",
    "\n",
    "### 🌍 Region Segmentation\n",
    "- The dataset was split into two subsets based on region:\n",
    "  - **Bejaia Region**\n",
    "  - **Sidi Bel-abbes Region**\n",
    "- A new `Region` column was added for clarity.\n",
    "\n",
    "### 📊 Exploratory Data Analysis (EDA)\n",
    "- Encoded the `Classes` column to numerical values (`1` for fire, `0` for no fire).\n",
    "- Performed extensive EDA to understand feature distributions and relationships.\n",
    "- Created various visualizations:\n",
    "  - Density plots\n",
    "  - Pie charts\n",
    "  - Heatmaps\n",
    "  - Pair plots\n",
    "  - Box plots\n",
    "\n",
    "### 🔑 Key Findings\n",
    "\n",
    "#### 🔗 Correlation Analysis\n",
    "- **Fire Weather Index (FWI)** shows strong correlation with other features.\n",
    "- Indicates its high importance in predicting forest fires.\n",
    "\n",
    "#### 🔥 Class Distribution\n",
    "- **137 fire occurrences**\n",
    "- **106 non-fire occurrences**\n",
    "- Shows a slight imbalance in the target variable.\n",
    "\n",
    "#### 📆 Monthly Fire Trends\n",
    "- Both regions exhibit more fire incidents during **summer months**.\n",
    "- Suggests a strong **seasonal pattern** in forest fire activity.\n",
    "\n",
    "### ✅ Conclusion\n",
    "Meteorological factors such as **Temperature**, **Relative Humidity (RH)**, **Wind Speed (Ws)**, and **Rainfall** play a crucial role in forest fire occurrences.  \n",
    "This dataset is suitable for building **predictive models** that can help in forecasting fires and implementing **preventive measures**.\n"
   ]
  }
 ],
 "metadata": {
  "kernelspec": {
   "display_name": "Python 3",
   "language": "python",
   "name": "python3"
  },
  "language_info": {
   "codemirror_mode": {
    "name": "ipython",
    "version": 3
   },
   "file_extension": ".py",
   "mimetype": "text/x-python",
   "name": "python",
   "nbconvert_exporter": "python",
   "pygments_lexer": "ipython3",
   "version": "3.10.11"
  }
 },
 "nbformat": 4,
 "nbformat_minor": 5
}
